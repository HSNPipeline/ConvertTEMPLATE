{
 "cells": [
  {
   "cell_type": "markdown",
   "id": "composite-stack",
   "metadata": {},
   "source": [
    "# Intro & Metadata\n",
    "\n",
    "This notebook introduces the approach of the current repository, and explores the metadata files."
   ]
  },
  {
   "cell_type": "code",
   "execution_count": 1,
   "id": "latin-jewelry",
   "metadata": {},
   "outputs": [],
   "source": [
    "%config Completer.use_jedi = False"
   ]
  },
  {
   "cell_type": "code",
   "execution_count": 2,
   "id": "sufficient-oregon",
   "metadata": {},
   "outputs": [],
   "source": [
    "import os\n",
    "from pathlib import Path\n",
    "\n",
    "import numpy as np\n",
    "import pandas as pd\n",
    "\n",
    "import yaml"
   ]
  },
  {
   "cell_type": "code",
   "execution_count": 4,
   "id": "sublime-marketplace",
   "metadata": {},
   "outputs": [],
   "source": [
    "# Import local code module\n",
    "import sys\n",
    "sys.path.append('..')\n",
    "from conv import process_logfile\n",
    "from conv.parser import parse_lines_logfile\n",
    "from conv.io import *"
   ]
  },
  {
   "cell_type": "markdown",
   "id": "taken-source",
   "metadata": {},
   "source": [
    "## Metadata Files\n",
    "\n",
    "Metadata for the task is organized into a series of config files, each representing a facet of the study / task. \n",
    "\n",
    "In order to process an individual subject, the configs can be loaded together and session specific information can be added. \n",
    "\n",
    "This combined metadata file is then used to create the output data file. "
   ]
  },
  {
   "cell_type": "code",
   "execution_count": 5,
   "id": "minimal-running",
   "metadata": {},
   "outputs": [],
   "source": [
    "# Get a list of metadata files\n",
    "files = get_files('../metadata', 'yaml')"
   ]
  },
  {
   "cell_type": "code",
   "execution_count": 6,
   "id": "chicken-journalism",
   "metadata": {},
   "outputs": [
    {
     "data": {
      "text/plain": [
       "['subject_info.yaml',\n",
       " 'electrode_info.yaml',\n",
       " 'study_info.yaml',\n",
       " 'device_info.yaml',\n",
       " 'task_info.yaml',\n",
       " 'events_info.yaml']"
      ]
     },
     "execution_count": 6,
     "metadata": {},
     "output_type": "execute_result"
    }
   ],
   "source": [
    "# Check the list of configuration files\n",
    "files"
   ]
  },
  {
   "cell_type": "code",
   "execution_count": 7,
   "id": "fabulous-hopkins",
   "metadata": {},
   "outputs": [],
   "source": [
    "# Load all the files together to create an overall metadata object\n",
    "metadata = load_configs(files, '../metadata')"
   ]
  },
  {
   "cell_type": "code",
   "execution_count": 8,
   "id": "compressed-bookmark",
   "metadata": {},
   "outputs": [
    {
     "data": {
      "text/plain": [
       "{'subject': {'age': 'XX',\n",
       "  'sex': 'XX',\n",
       "  'description': 'XX',\n",
       "  'species': 'human'},\n",
       " 'electrode': {'name': 'XX',\n",
       "  'description': 'Behnke Fried/Micro Inner Wire Bundle.',\n",
       "  'location': 'XX',\n",
       "  'impedence': 'XX',\n",
       "  'filtering': 'XX',\n",
       "  'reference': 'XX',\n",
       "  'position': 'XX, XX, XX'},\n",
       " 'study': {'identifier': 'XX',\n",
       "  'session_id': 'XX',\n",
       "  'session_start_time': '1111/11/11',\n",
       "  'session_description': 'XX',\n",
       "  'experiment_description': 'XX',\n",
       "  'experimenter': 'XX',\n",
       "  'lab': 'Electrophysiology, Memory, and Navigation Laboratory',\n",
       "  'institution': 'Columbia University',\n",
       "  'data_collection': 'XX'},\n",
       " 'device': {'name': 'Microwire Electrodes',\n",
       "  'description': 'Behnke Fried Micro Inner Wire Bundle',\n",
       "  'manufacturer': 'Ad-Tech Medical'},\n",
       " 'task': {'name': 'T3',\n",
       "  'description': 'XX',\n",
       "  'events_description': 'XX',\n",
       "  'task_run_version': 'XX',\n",
       "  'revision_date': 'XX',\n",
       "  'run_platform': 'Unity'},\n",
       " 'events': None}"
      ]
     },
     "execution_count": 8,
     "metadata": {},
     "output_type": "execute_result"
    }
   ],
   "source": [
    "# Check the metadata object\n",
    "metadata"
   ]
  },
  {
   "cell_type": "markdown",
   "id": "quarterly-spell",
   "metadata": {},
   "source": [
    "The above metadata file includes all the metadata fields\n",
    "\n",
    "Where available, information is prefilled with default information for the current task. \n",
    "\n",
    "For fields not filled in (marked with `XX`), the metadata needs to be entered. "
   ]
  },
  {
   "cell_type": "code",
   "execution_count": 10,
   "id": "liquid-bangkok",
   "metadata": {},
   "outputs": [],
   "source": [
    "# Save out the collected metadata to a subject-level file\n",
    "save_config(metadata, 'example_files/example_metadata')"
   ]
  },
  {
   "cell_type": "code",
   "execution_count": 11,
   "id": "optional-algeria",
   "metadata": {},
   "outputs": [
    {
     "data": {
      "text/plain": [
       "'Electrophysiology, Memory, and Navigation Laboratory'"
      ]
     },
     "execution_count": 11,
     "metadata": {},
     "output_type": "execute_result"
    }
   ],
   "source": [
    "# Reload the collected metadata file, and check an example attribute\n",
    "metadata_new = load_config('example_files/example_metadata.yaml')\n",
    "metadata_new['study']['lab']"
   ]
  },
  {
   "cell_type": "markdown",
   "id": "balanced-horizon",
   "metadata": {},
   "source": [
    "## Logfile Processing\n",
    "\n",
    "The task logfile, which is a structured txt file, needs parsing and organizing in order to create the new data files. "
   ]
  },
  {
   "cell_type": "code",
   "execution_count": 12,
   "id": "russian-consistency",
   "metadata": {},
   "outputs": [],
   "source": [
    "# Define base data folder\n",
    "DATA_FOLDER = Path('...')\n",
    "\n",
    "# Define location of the logfile\n",
    "logfile_path = DATA_FOLDER / 'behavioral' / 'logfile.txt'"
   ]
  },
  {
   "cell_type": "markdown",
   "id": "frequent-monaco",
   "metadata": {},
   "source": [
    "### Process logfile\n",
    "\n",
    "The logfile processing extracts required information from the logfile into a `Task` object."
   ]
  },
  {
   "cell_type": "code",
   "execution_count": null,
   "id": "vital-mexican",
   "metadata": {},
   "outputs": [],
   "source": [
    "# Parse the log file\n",
    "task = parse_lines_logfile(logfile_path)"
   ]
  },
  {
   "cell_type": "code",
   "execution_count": null,
   "id": "dramatic-profession",
   "metadata": {},
   "outputs": [],
   "source": [
    "# Check the task object\n",
    "task"
   ]
  },
  {
   "cell_type": "markdown",
   "id": "circular-moldova",
   "metadata": {},
   "source": [
    "### Process Functions\n",
    "\n",
    "This `Task` object can then be passed into subsequent function(s) to process the information.\n",
    "\n",
    "These process functions include:\n",
    "- `process_time_info`\n",
    "- `process_task_info`\n",
    "- `process_position_info`\n",
    "- `process_location_info`\n",
    "- `process_error_info`\n",
    "\n",
    "Each of these functions can be updated independently if some task-related information needs to be updated. "
   ]
  },
  {
   "cell_type": "code",
   "execution_count": 13,
   "id": "incorporated-alcohol",
   "metadata": {},
   "outputs": [],
   "source": [
    "# Import the process functions\n",
    "from conv.process import *"
   ]
  }
 ],
 "metadata": {
  "kernelspec": {
   "display_name": "Python 3",
   "language": "python",
   "name": "python3"
  },
  "language_info": {
   "codemirror_mode": {
    "name": "ipython",
    "version": 3
   },
   "file_extension": ".py",
   "mimetype": "text/x-python",
   "name": "python",
   "nbconvert_exporter": "python",
   "pygments_lexer": "ipython3",
   "version": "3.8.8"
  }
 },
 "nbformat": 4,
 "nbformat_minor": 5
}
