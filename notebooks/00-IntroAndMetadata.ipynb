{
 "cells": [
  {
   "cell_type": "markdown",
   "id": "composite-stack",
   "metadata": {},
   "source": [
    "# Intro & Metadata\n",
    "\n",
    "This notebook introduces the approach of the current repository, and explores the metadata files."
   ]
  },
  {
   "cell_type": "code",
   "execution_count": 1,
   "id": "latin-jewelry",
   "metadata": {},
   "outputs": [],
   "source": [
    "%config Completer.use_jedi = False"
   ]
  },
  {
   "cell_type": "code",
   "execution_count": 2,
   "id": "sufficient-oregon",
   "metadata": {},
   "outputs": [],
   "source": [
    "import os\n",
    "from pathlib import Path\n",
    "\n",
    "import numpy as np\n",
    "import pandas as pd"
   ]
  },
  {
   "cell_type": "code",
   "execution_count": 3,
   "id": "sublime-marketplace",
   "metadata": {},
   "outputs": [],
   "source": [
    "# Import local code module\n",
    "import sys\n",
    "sys.path.append('..')\n",
    "from conv import process_session\n",
    "from conv.parser import parse_lines_log, parse_lines_sync\n",
    "from conv.process import process_task\n",
    "from conv.io import *"
   ]
  },
  {
   "cell_type": "markdown",
   "id": "taken-source",
   "metadata": {},
   "source": [
    "## Metadata Files\n",
    "\n",
    "Metadata for the task is organized into a series of config files, each representing a facet of the study / task. \n",
    "\n",
    "In order to process an individual subject, the configs can be loaded together and session specific information can be added. \n",
    "\n",
    "This combined metadata file is then used to create the output data file. "
   ]
  },
  {
   "cell_type": "code",
   "execution_count": 4,
   "id": "minimal-running",
   "metadata": {},
   "outputs": [],
   "source": [
    "# Get a list of metadata files\n",
    "files = get_files('../metadata', 'yaml')"
   ]
  },
  {
   "cell_type": "code",
   "execution_count": 5,
   "id": "chicken-journalism",
   "metadata": {},
   "outputs": [
    {
     "data": {
      "text/plain": [
       "['device_info.yaml',\n",
       " 'electrode_info.yaml',\n",
       " 'events_info.yaml',\n",
       " 'soring_info.yaml',\n",
       " 'study_info.yaml',\n",
       " 'subject_info.yaml',\n",
       " 'task_info.yaml',\n",
       " 'timestamps_info.yaml',\n",
       " 'units_info.yaml']"
      ]
     },
     "execution_count": 5,
     "metadata": {},
     "output_type": "execute_result"
    }
   ],
   "source": [
    "# Check the list of configuration files\n",
    "files"
   ]
  },
  {
   "cell_type": "code",
   "execution_count": 6,
   "id": "fabulous-hopkins",
   "metadata": {},
   "outputs": [],
   "source": [
    "# Load all the files together to create an overall metadata object\n",
    "metadata = load_configs(files, '../metadata')"
   ]
  },
  {
   "cell_type": "code",
   "execution_count": 7,
   "id": "compressed-bookmark",
   "metadata": {},
   "outputs": [
    {
     "data": {
      "text/plain": [
       "{'device': {'name': 'Microwire Electrodes',\n",
       "  'description': 'Behnke Fried Micro Inner Wire Bundle',\n",
       "  'manufacturer': 'Ad-Tech Medical'},\n",
       " 'electrode': {'name': 'XX',\n",
       "  'description': 'Behnke Fried/Micro Inner Wire Bundle.',\n",
       "  'location': 'XX',\n",
       "  'impedence': 'XX',\n",
       "  'filtering': 'XX',\n",
       "  'reference': 'XX',\n",
       "  'position': 'XX, XX, XX'},\n",
       " 'events': None,\n",
       " 'soring': {'sorter': 'XX',\n",
       "  'version': 'XX',\n",
       "  'done_by': 'XX',\n",
       "  'date': 'XX',\n",
       "  'settings': 'XX'},\n",
       " 'study': {'identifier': 'XX',\n",
       "  'session_id': 'XX',\n",
       "  'session_start_time': '1111/11/11',\n",
       "  'session_description': 'XX',\n",
       "  'experimenter': 'XX',\n",
       "  'experiment_description': 'XX',\n",
       "  'institution': 'Columbia University',\n",
       "  'keywords': 'XX',\n",
       "  'source_script': 'https://github.com/JacobsSU/ConvertXX/',\n",
       "  'source_script_file_name': 'XX',\n",
       "  'data_collection': 'XX',\n",
       "  'stimulus_notes': 'XX',\n",
       "  'lab': 'Electrophysiology, Memory, and Navigation Laboratory'},\n",
       " 'subject': {'age': 'XX',\n",
       "  'sex': 'XX',\n",
       "  'species': 'human',\n",
       "  'description': 'The subject is a clinical patient with intractable epilepsy undergoing pre-surgical mapping in an epilepsy monitoring unit, with implants including Behnke-Fried microwires.'},\n",
       " 'task': {'name': 'XX',\n",
       "  'description': 'XX',\n",
       "  'events_description': 'XX',\n",
       "  'task_run_version': 'XX',\n",
       "  'revision_date': 'XX',\n",
       "  'run_platform': 'Unity'},\n",
       " 'timestamps': {'approach': 'XX',\n",
       "  'separate_behav_comp': 'XX',\n",
       "  'learned_offset': 'XX',\n",
       "  'model_fit_score': 'XX',\n",
       "  'notes': 'XX'},\n",
       " 'units': {'channel': 'The recording channel of this unit.',\n",
       "  'location': 'The anatomical location of this unit.'}}"
      ]
     },
     "execution_count": 7,
     "metadata": {},
     "output_type": "execute_result"
    }
   ],
   "source": [
    "# Check the metadata object\n",
    "metadata"
   ]
  },
  {
   "cell_type": "markdown",
   "id": "quarterly-spell",
   "metadata": {},
   "source": [
    "The above metadata file includes all the metadata fields\n",
    "\n",
    "Where available, information is prefilled with default information for the current task. \n",
    "\n",
    "For fields not filled in (marked with `XX`), the metadata needs to be entered. "
   ]
  },
  {
   "cell_type": "code",
   "execution_count": 8,
   "id": "liquid-bangkok",
   "metadata": {},
   "outputs": [],
   "source": [
    "# Save out the collected metadata to a subject-level file\n",
    "save_config(metadata, 'example_files/example_metadata')"
   ]
  },
  {
   "cell_type": "code",
   "execution_count": 9,
   "id": "optional-algeria",
   "metadata": {},
   "outputs": [
    {
     "data": {
      "text/plain": [
       "'Electrophysiology, Memory, and Navigation Laboratory'"
      ]
     },
     "execution_count": 9,
     "metadata": {},
     "output_type": "execute_result"
    }
   ],
   "source": [
    "# Reload the collected metadata file, and check an example attribute\n",
    "metadata_new = load_config('example_files/example_metadata.yaml')\n",
    "metadata_new['study']['lab']"
   ]
  },
  {
   "cell_type": "markdown",
   "id": "balanced-horizon",
   "metadata": {},
   "source": [
    "## Logfile Processing\n",
    "\n",
    "The task logfile, which is a structured txt file, needs parsing and organizing in order to create the new data files. "
   ]
  },
  {
   "cell_type": "code",
   "execution_count": null,
   "id": "russian-consistency",
   "metadata": {},
   "outputs": [],
   "source": [
    "# Define base data folder\n",
    "data_folder = Path('...')"
   ]
  },
  {
   "cell_type": "code",
   "execution_count": null,
   "id": "1bc8aa6b",
   "metadata": {},
   "outputs": [],
   "source": [
    "# Define subject information\n",
    "subj = ''\n",
    "session = ''"
   ]
  },
  {
   "cell_type": "code",
   "execution_count": null,
   "id": "a18ef2a0",
   "metadata": {},
   "outputs": [],
   "source": [
    "# Define full file path\n",
    "logfile_path = data_folder / subj / session"
   ]
  },
  {
   "cell_type": "code",
   "execution_count": null,
   "id": "acbf7cb9",
   "metadata": {},
   "outputs": [],
   "source": [
    "# Define file locations\n",
    "logfile_path = full_path / 'behavior' / (subj + 'Log.txt')\n",
    "sync_path = full_path / 'sync' / ..."
   ]
  },
  {
   "cell_type": "markdown",
   "id": "frequent-monaco",
   "metadata": {},
   "source": [
    "### Process session all together\n",
    "\n",
    "The logfile processing extracts required information from the logfile into a `Task` object."
   ]
  },
  {
   "cell_type": "code",
   "execution_count": null,
   "id": "vital-mexican",
   "metadata": {},
   "outputs": [],
   "source": [
    "# Process task information\n",
    "task = process_session(logfile_path, ..., process=True)"
   ]
  },
  {
   "cell_type": "code",
   "execution_count": null,
   "id": "dramatic-profession",
   "metadata": {},
   "outputs": [],
   "source": [
    "# Check the task object\n",
    "task"
   ]
  },
  {
   "cell_type": "markdown",
   "id": "661597a5",
   "metadata": {},
   "source": [
    "### Process logfile in steps\n",
    "\n",
    "The logfile processing includes two main steps:\n",
    "\n",
    "- parse the logfile text, extracted required information\n",
    "- process the collected information into a DataFrame\n",
    "\n",
    "These processes can be run separately, which may be useful for explorating and needed updates, etc."
   ]
  },
  {
   "cell_type": "code",
   "execution_count": null,
   "id": "64acc631",
   "metadata": {},
   "outputs": [],
   "source": [
    "# Parse the log file\n",
    "task1 = parse_lines_log(logfile_path)"
   ]
  },
  {
   "cell_type": "code",
   "execution_count": null,
   "id": "5f0d19e1",
   "metadata": {},
   "outputs": [],
   "source": [
    "# Check task object - task information \n",
    "print(task1.trial['trial'][0:5])"
   ]
  },
  {
   "cell_type": "code",
   "execution_count": null,
   "id": "f4b7a755",
   "metadata": {},
   "outputs": [],
   "source": [
    "# Parse the sync pulses \n",
    "task1 = parse_lines_sync(sync_path, task1)"
   ]
  },
  {
   "cell_type": "markdown",
   "id": "c956c094",
   "metadata": {},
   "source": [
    "This Task object can then be passed into a subsequent function to process the information."
   ]
  },
  {
   "cell_type": "code",
   "execution_count": null,
   "id": "3e023725",
   "metadata": {},
   "outputs": [],
   "source": [
    "# Preprocess the task information\n",
    "task1 = process_task(task1)"
   ]
  },
  {
   "cell_type": "markdown",
   "id": "77698415",
   "metadata": {},
   "source": [
    "### Save & Reload task objects"
   ]
  },
  {
   "cell_type": "code",
   "execution_count": null,
   "id": "664b238c",
   "metadata": {},
   "outputs": [],
   "source": [
    "# Save out a task object\n",
    "task_obj_name = 'example_task_obj'\n",
    "save_task_object(task, task_obj_name, folder=examples_folder)"
   ]
  },
  {
   "cell_type": "code",
   "execution_count": null,
   "id": "30e28c2f",
   "metadata": {},
   "outputs": [],
   "source": [
    "# Reload task object\n",
    "new_task = load_task_object(task_obj_name, folder=examples_folder)"
   ]
  },
  {
   "cell_type": "code",
   "execution_count": null,
   "id": "1652b618",
   "metadata": {},
   "outputs": [],
   "source": [
    "# Check reloaded task object\n",
    "new_task"
   ]
  },
  {
   "cell_type": "markdown",
   "id": "circular-moldova",
   "metadata": {},
   "source": [
    "### Process Functions\n",
    "\n",
    "This `Task` object can then be passed into subsequent function(s) to process the information.\n",
    "\n",
    "These process functions include:\n",
    "- `process_time_info`\n",
    "- `process_task_info`\n",
    "- `process_position_info`\n",
    "- `process_location_info`\n",
    "- `process_error_info`\n",
    "\n",
    "Each of these functions can be updated independently if some task-related information needs to be updated. "
   ]
  },
  {
   "cell_type": "code",
   "execution_count": null,
   "id": "incorporated-alcohol",
   "metadata": {},
   "outputs": [],
   "source": [
    "# Import the process functions\n",
    "from conv.process import *"
   ]
  }
 ],
 "metadata": {
  "kernelspec": {
   "display_name": "Python 3 (ipykernel)",
   "language": "python",
   "name": "python3"
  },
  "language_info": {
   "codemirror_mode": {
    "name": "ipython",
    "version": 3
   },
   "file_extension": ".py",
   "mimetype": "text/x-python",
   "name": "python",
   "nbconvert_exporter": "python",
   "pygments_lexer": "ipython3",
   "version": "3.8.11"
  }
 },
 "nbformat": 4,
 "nbformat_minor": 5
}
