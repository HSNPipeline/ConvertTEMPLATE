{
 "cells": [
  {
   "cell_type": "markdown",
   "id": "composite-stack",
   "metadata": {},
   "source": [
    "# Intro & Metadata\n",
    "\n",
    "This notebook introduces the approach of the current repository, and explores the metadata files."
   ]
  },
  {
   "cell_type": "code",
   "execution_count": null,
   "id": "latin-jewelry",
   "metadata": {},
   "outputs": [],
   "source": [
    "%config Completer.use_jedi = False"
   ]
  },
  {
   "cell_type": "code",
   "execution_count": null,
   "id": "ec71d399",
   "metadata": {},
   "outputs": [],
   "source": [
    "# Import hsntools code\n",
    "from hsntools.paths import Paths\n",
    "from hsntools.io.custom import load_config, load_configs, save_config, load_object, save_object\n",
    "from hsntools.io.utils import get_files, "
   ]
  },
  {
   "cell_type": "code",
   "execution_count": null,
   "id": "sublime-marketplace",
   "metadata": {},
   "outputs": [],
   "source": [
    "# Import local code module\n",
    "import sys\n",
    "sys.path.append('..')\n",
    "from conv.parser import process_session, parse_lines_log, parse_lines_sync\n",
    "from conv.process import process_task"
   ]
  },
  {
   "cell_type": "markdown",
   "id": "aac0867e",
   "metadata": {},
   "source": [
    "## Settings"
   ]
  },
  {
   "cell_type": "code",
   "execution_count": null,
   "id": "229ad716",
   "metadata": {},
   "outputs": [],
   "source": [
    "# Define the examples folder\n",
    "examples_folder = 'example_files/'"
   ]
  },
  {
   "cell_type": "markdown",
   "id": "taken-source",
   "metadata": {},
   "source": [
    "## Metadata Files\n",
    "\n",
    "Metadata for the task is organized into a series of config files, each representing a facet of the study / task. \n",
    "\n",
    "In order to process an individual subject, the configs can be loaded together and session specific information can be added. \n",
    "\n",
    "This combined metadata file is then used to create the output data file. "
   ]
  },
  {
   "cell_type": "code",
   "execution_count": null,
   "id": "minimal-running",
   "metadata": {},
   "outputs": [],
   "source": [
    "# Get a list of metadata files\n",
    "files = get_files('../metadata', 'yaml')"
   ]
  },
  {
   "cell_type": "code",
   "execution_count": null,
   "id": "chicken-journalism",
   "metadata": {},
   "outputs": [],
   "source": [
    "# Check the list of configuration files\n",
    "files"
   ]
  },
  {
   "cell_type": "code",
   "execution_count": null,
   "id": "fabulous-hopkins",
   "metadata": {},
   "outputs": [],
   "source": [
    "# Load all the files together to create an overall metadata object\n",
    "metadata = load_configs(files, '../metadata')"
   ]
  },
  {
   "cell_type": "code",
   "execution_count": null,
   "id": "compressed-bookmark",
   "metadata": {},
   "outputs": [],
   "source": [
    "# Check the metadata object\n",
    "metadata"
   ]
  },
  {
   "cell_type": "markdown",
   "id": "quarterly-spell",
   "metadata": {},
   "source": [
    "The above metadata file includes all the metadata fields\n",
    "\n",
    "Where available, information is prefilled with default information for the current task. \n",
    "\n",
    "For fields not filled in (marked with `XX`), the metadata needs to be entered. "
   ]
  },
  {
   "cell_type": "code",
   "execution_count": null,
   "id": "liquid-bangkok",
   "metadata": {},
   "outputs": [],
   "source": [
    "# Save out the collected metadata to a subject-level file\n",
    "save_config(metadata, 'example_metadata', folder=examples_folder)"
   ]
  },
  {
   "cell_type": "code",
   "execution_count": null,
   "id": "optional-algeria",
   "metadata": {},
   "outputs": [],
   "source": [
    "# Reload the collected metadata file, and check an example attribute\n",
    "metadata_new = load_config('example_metadata.yaml', folder=examples_folder)\n",
    "metadata_new['study']['lab']"
   ]
  },
  {
   "cell_type": "markdown",
   "id": "balanced-horizon",
   "metadata": {},
   "source": [
    "## Logfile Processing\n",
    "\n",
    "The task logfile, which is a structured txt file, needs parsing and organizing in order to create the new data files. "
   ]
  },
  {
   "cell_type": "code",
   "execution_count": null,
   "id": "c3b6fe74",
   "metadata": {},
   "outputs": [],
   "source": [
    "# Define experiment label\n",
    "experiment = ''"
   ]
  },
  {
   "cell_type": "code",
   "execution_count": null,
   "id": "1bc8aa6b",
   "metadata": {},
   "outputs": [],
   "source": [
    "# Define subject information\n",
    "subject = ''\n",
    "session = ''"
   ]
  },
  {
   "cell_type": "code",
   "execution_count": null,
   "id": "a18ef2a0",
   "metadata": {},
   "outputs": [],
   "source": [
    "# Define project folder\n",
    "project_path = ''"
   ]
  },
  {
   "cell_type": "code",
   "execution_count": null,
   "id": "12f5382d",
   "metadata": {},
   "outputs": [],
   "source": [
    "# Define project paths object\n",
    "paths = Paths(project_path, subject, experiment, session)"
   ]
  },
  {
   "cell_type": "markdown",
   "id": "frequent-monaco",
   "metadata": {},
   "source": [
    "### Process session all together\n",
    "\n",
    "The logfile processing extracts required information from the logfile into a `Task` object."
   ]
  },
  {
   "cell_type": "code",
   "execution_count": null,
   "id": "vital-mexican",
   "metadata": {},
   "outputs": [],
   "source": [
    "# Process task information\n",
    "task = process_session(paths, ..., process=True)"
   ]
  },
  {
   "cell_type": "code",
   "execution_count": null,
   "id": "dramatic-profession",
   "metadata": {},
   "outputs": [],
   "source": [
    "# Check the task object\n",
    "task"
   ]
  },
  {
   "cell_type": "markdown",
   "id": "661597a5",
   "metadata": {},
   "source": [
    "### Process logfile in steps\n",
    "\n",
    "The logfile processing includes two main steps:\n",
    "\n",
    "- parse the logfile text, extracting required information\n",
    "- process the collected information in the Task object\n",
    "\n",
    "These processes can be run separately, which may be useful for exploring and checking for any issues, etc."
   ]
  },
  {
   "cell_type": "code",
   "execution_count": null,
   "id": "64acc631",
   "metadata": {},
   "outputs": [],
   "source": [
    "# Parse the log file\n",
    "task1 = parse_lines_log(paths.behavior)"
   ]
  },
  {
   "cell_type": "code",
   "execution_count": null,
   "id": "5f0d19e1",
   "metadata": {},
   "outputs": [],
   "source": [
    "# Check task object - task information \n",
    "print(task1.trial['trial'][0:5])"
   ]
  },
  {
   "cell_type": "code",
   "execution_count": null,
   "id": "f4b7a755",
   "metadata": {},
   "outputs": [],
   "source": [
    "# Parse the sync pulses \n",
    "task1 = parse_lines_sync(paths.sync, task1)"
   ]
  },
  {
   "cell_type": "markdown",
   "id": "c956c094",
   "metadata": {},
   "source": [
    "This Task object can then be passed into a subsequent function to process the information."
   ]
  },
  {
   "cell_type": "code",
   "execution_count": null,
   "id": "3e023725",
   "metadata": {},
   "outputs": [],
   "source": [
    "# Preprocess the task information\n",
    "task1 = process_task(task1)"
   ]
  },
  {
   "cell_type": "markdown",
   "id": "77698415",
   "metadata": {},
   "source": [
    "### Save & Reload task objects"
   ]
  },
  {
   "cell_type": "code",
   "execution_count": null,
   "id": "664b238c",
   "metadata": {},
   "outputs": [],
   "source": [
    "# Save out a task object\n",
    "task_obj_name = 'example_task_obj'\n",
    "save_object(task, task_obj_name, folder='example_files/')"
   ]
  },
  {
   "cell_type": "code",
   "execution_count": null,
   "id": "30e28c2f",
   "metadata": {},
   "outputs": [],
   "source": [
    "# Reload task object\n",
    "new_task = load_object(task_obj_name, folder='example_files/')"
   ]
  },
  {
   "cell_type": "code",
   "execution_count": null,
   "id": "1652b618",
   "metadata": {},
   "outputs": [],
   "source": [
    "# Check reloaded task object\n",
    "new_task"
   ]
  },
  {
   "cell_type": "markdown",
   "id": "circular-moldova",
   "metadata": {},
   "source": [
    "### Process Functions\n",
    "\n",
    "This `Task` object can then be passed into subsequent function(s) to process the information.\n",
    "\n",
    "These process functions include:\n",
    "- `process_time_info`\n",
    "- `process_task_info`\n",
    "- `process_position_info`\n",
    "- `process_location_info`\n",
    "- `process_error_info`\n",
    "\n",
    "Each of these functions can be updated independently if some task-related information needs to be updated. "
   ]
  },
  {
   "cell_type": "code",
   "execution_count": null,
   "id": "incorporated-alcohol",
   "metadata": {},
   "outputs": [],
   "source": [
    "# Import the process functions\n",
    "from conv.process import *"
   ]
  }
 ],
 "metadata": {
  "kernelspec": {
   "display_name": "Python 3 (ipykernel)",
   "language": "python",
   "name": "python3"
  },
  "language_info": {
   "codemirror_mode": {
    "name": "ipython",
    "version": 3
   },
   "file_extension": ".py",
   "mimetype": "text/x-python",
   "name": "python",
   "nbconvert_exporter": "python",
   "pygments_lexer": "ipython3",
   "version": "3.8.3"
  }
 },
 "nbformat": 4,
 "nbformat_minor": 5
}
