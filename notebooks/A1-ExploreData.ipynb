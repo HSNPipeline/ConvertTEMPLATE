{
 "cells": [
  {
   "cell_type": "markdown",
   "id": "infrared-welcome",
   "metadata": {},
   "source": [
    "# Data Explorations\n",
    "\n",
    "This notebook explores example data files.\n",
    "\n",
    "These data have already been 'pre-processed', including:\n",
    "- Parsing the logfile into a task object\n",
    "- Spike sorting, and saving out the spike results"
   ]
  },
  {
   "cell_type": "code",
   "execution_count": null,
   "id": "enhanced-inventory",
   "metadata": {},
   "outputs": [],
   "source": [
    "%config Completer.use_jedi = False"
   ]
  },
  {
   "cell_type": "code",
   "execution_count": null,
   "id": "economic-hospital",
   "metadata": {},
   "outputs": [],
   "source": [
    "from pathlib import Path\n",
    "\n",
    "import numpy as np\n",
    "import matplotlib.pyplot as plt"
   ]
  },
  {
   "cell_type": "code",
   "execution_count": null,
   "id": "floppy-checklist",
   "metadata": {},
   "outputs": [],
   "source": [
    "# Import local code module\n",
    "import sys\n",
    "sys.path.append('..')\n",
    "from conv.io import get_files, load_task_object"
   ]
  },
  {
   "cell_type": "markdown",
   "id": "flush-timeline",
   "metadata": {},
   "source": [
    "## Settings"
   ]
  },
  {
   "cell_type": "code",
   "execution_count": null,
   "id": "crude-seattle",
   "metadata": {},
   "outputs": [],
   "source": [
    "# Define subject information\n",
    "subj = 'example'\n",
    "session = 'session_0'"
   ]
  },
  {
   "cell_type": "code",
   "execution_count": null,
   "id": "whole-twenty",
   "metadata": {},
   "outputs": [],
   "source": [
    "# Define the data folder\n",
    "data_folder = Path('...')\n",
    "\n",
    "# Define the full subject & session path\n",
    "full_path = data_folder / subj / session"
   ]
  },
  {
   "cell_type": "markdown",
   "id": "hearing-oklahoma",
   "metadata": {},
   "source": [
    "## Task Information\n",
    "\n",
    "Timing notes:\n",
    "- XX\n",
    "\n",
    "Things in the task object:\n",
    "- XX\n",
    "- XX"
   ]
  },
  {
   "cell_type": "code",
   "execution_count": null,
   "id": "accepting-bristol",
   "metadata": {},
   "outputs": [],
   "source": [
    "# Load the behavioural data\n",
    "task = load_task_object('example_task_obj', folder='example_files')"
   ]
  },
  {
   "cell_type": "code",
   "execution_count": null,
   "id": "mounted-albania",
   "metadata": {},
   "outputs": [],
   "source": [
    "# Check the task data\n",
    "task"
   ]
  },
  {
   "cell_type": "code",
   "execution_count": null,
   "id": "d8e96246",
   "metadata": {},
   "outputs": [],
   "source": [
    "# Check the meta data for the task information object\n",
    "task.meta"
   ]
  },
  {
   "cell_type": "code",
   "execution_count": null,
   "id": "7866a204",
   "metadata": {},
   "outputs": [],
   "source": [
    "# Check the list of column labels\n",
    "print([el for el in dir(task) if el[0] != '_'])"
   ]
  },
  {
   "cell_type": "markdown",
   "id": "f9bfa97b",
   "metadata": {},
   "source": [
    "## Check Trial Information"
   ]
  },
  {
   "cell_type": "code",
   "execution_count": null,
   "id": "2bed6895",
   "metadata": {},
   "outputs": [],
   "source": [
    "# Check the number of trials\n",
    "print('Number of trial numbers: \\t{}'.format(len(set(task.trial['trial']))))"
   ]
  },
  {
   "cell_type": "code",
   "execution_count": null,
   "id": "da35e13d",
   "metadata": {},
   "outputs": [],
   "source": [
    "# Check position data\n",
    "task.position"
   ]
  },
  {
   "cell_type": "code",
   "execution_count": null,
   "id": "31198767",
   "metadata": {},
   "outputs": [],
   "source": [
    "..."
   ]
  },
  {
   "cell_type": "markdown",
   "id": "a97b8e4e",
   "metadata": {},
   "source": [
    "### Check Synchronization"
   ]
  },
  {
   "cell_type": "code",
   "execution_count": null,
   "id": "e9e3f64c",
   "metadata": {},
   "outputs": [],
   "source": [
    "# Plot the sync pulse alignment\n",
    "task.plot_sync_allignment()"
   ]
  },
  {
   "cell_type": "markdown",
   "id": "tribal-question",
   "metadata": {},
   "source": [
    "## Spiketimes\n",
    "\n",
    "Spiking data is stored in XX files. "
   ]
  },
  {
   "cell_type": "code",
   "execution_count": null,
   "id": "faced-argument",
   "metadata": {},
   "outputs": [],
   "source": [
    "# Get a list of the available spike files\n",
    "spike_files = get_files(full_path / 'spikes')"
   ]
  },
  {
   "cell_type": "code",
   "execution_count": null,
   "id": "ordered-airport",
   "metadata": {},
   "outputs": [],
   "source": [
    "# Check the number of available spike files\n",
    "print('Number of spike files: {}'.format(len(spike_files)))"
   ]
  },
  {
   "cell_type": "code",
   "execution_count": null,
   "id": "dynamic-township",
   "metadata": {},
   "outputs": [],
   "source": [
    "# Load example spike file\n",
    "h5file = h5py.File(full_path / 'split_files' / spike_files[3], 'r')\n",
    "\n",
    "# Extract sorted spike time data\n",
    "spike_data = h5file['spike_data_sorted']"
   ]
  },
  {
   "cell_type": "code",
   "execution_count": null,
   "id": "voluntary-jones",
   "metadata": {},
   "outputs": [],
   "source": [
    "# Check the available data keys\n",
    "print(spike_data.keys())"
   ]
  },
  {
   "cell_type": "code",
   "execution_count": null,
   "id": "fluid-muscle",
   "metadata": {},
   "outputs": [],
   "source": [
    "# Calculate and plot the average waveform\n",
    "avg = np.mean(waveforms, 0)\n",
    "plt.plot(avg)"
   ]
  },
  {
   "cell_type": "markdown",
   "id": "sustainable-portable",
   "metadata": {},
   "source": [
    "### LFP Files\n",
    "\n",
    "..."
   ]
  },
  {
   "cell_type": "code",
   "execution_count": null,
   "id": "horizontal-reality",
   "metadata": {},
   "outputs": [],
   "source": [
    "# Get a list of the available LFP files\n",
    "lfp_files = get_files(full_path / 'micro_lfp')"
   ]
  },
  {
   "cell_type": "code",
   "execution_count": null,
   "id": "deluxe-module",
   "metadata": {},
   "outputs": [],
   "source": [
    "# Check the number of avaialble LFP files\n",
    "print('Number of LFP files: {}'.format(len(lfp_files)))"
   ]
  },
  {
   "cell_type": "code",
   "execution_count": null,
   "id": "attended-characteristic",
   "metadata": {},
   "outputs": [],
   "source": [
    "# Load an example LFP file\n",
    "f_ind = 0\n",
    "with open(full_path /  'micro_lfp' / lfp_files[f_ind], 'rb') as pfile:\n",
    "    temp = load(...)"
   ]
  },
  {
   "cell_type": "code",
   "execution_count": null,
   "id": "accepted-alberta",
   "metadata": {},
   "outputs": [],
   "source": [
    "# Plot an example segment of LFP data\n",
    "plt.plot(temp)"
   ]
  }
 ],
 "metadata": {
  "kernelspec": {
   "display_name": "Python 3 (ipykernel)",
   "language": "python",
   "name": "python3"
  },
  "language_info": {
   "codemirror_mode": {
    "name": "ipython",
    "version": 3
   },
   "file_extension": ".py",
   "mimetype": "text/x-python",
   "name": "python",
   "nbconvert_exporter": "python",
   "pygments_lexer": "ipython3",
   "version": "3.8.11"
  }
 },
 "nbformat": 4,
 "nbformat_minor": 5
}
