{
 "cells": [
  {
   "cell_type": "markdown",
   "id": "infrared-welcome",
   "metadata": {},
   "source": [
    "# Data Explorations\n",
    "\n",
    "This notebook explores example data files.\n",
    "\n",
    "These data have already been 'pre-processed', including:\n",
    "- Parsing the logfile into a task object\n",
    "- Spike sorting, and saving out the spike results"
   ]
  },
  {
   "cell_type": "code",
   "execution_count": null,
   "id": "enhanced-inventory",
   "metadata": {},
   "outputs": [],
   "source": [
    "%config Completer.use_jedi = False"
   ]
  },
  {
   "cell_type": "code",
   "execution_count": null,
   "id": "economic-hospital",
   "metadata": {},
   "outputs": [],
   "source": [
    "from pathlib import Path\n",
    "\n",
    "import numpy as np\n",
    "import matplotlib.pyplot as plt"
   ]
  },
  {
   "cell_type": "code",
   "execution_count": null,
   "id": "floppy-checklist",
   "metadata": {},
   "outputs": [],
   "source": [
    "# Import local code module\n",
    "import sys\n",
    "sys.path.append('..')\n",
    "from conv.io import get_files"
   ]
  },
  {
   "cell_type": "markdown",
   "id": "flush-timeline",
   "metadata": {},
   "source": [
    "## Settings"
   ]
  },
  {
   "cell_type": "code",
   "execution_count": null,
   "id": "crude-seattle",
   "metadata": {},
   "outputs": [],
   "source": [
    "# Define subject information\n",
    "subj = 'example'\n",
    "session = 'session_0'"
   ]
  },
  {
   "cell_type": "code",
   "execution_count": null,
   "id": "whole-twenty",
   "metadata": {},
   "outputs": [],
   "source": [
    "# Define the data folder\n",
    "data_folder = Path('...')\n",
    "\n",
    "# Define the full subject & session path\n",
    "full_path = data_folder / subj / session"
   ]
  },
  {
   "cell_type": "markdown",
   "id": "hearing-oklahoma",
   "metadata": {},
   "source": [
    "### Read Behaviour\n",
    "\n",
    "Timing notes:\n",
    "...\n",
    "\n",
    "Note: spike times (seconds) is the time of spiking.\n"
   ]
  },
  {
   "cell_type": "markdown",
   "id": "comprehensive-reading",
   "metadata": {},
   "source": [
    "Position values\n",
    "- Actual position: `x`, `y`\n",
    "- Relevant measures: `speed`"
   ]
  },
  {
   "cell_type": "markdown",
   "id": "working-service",
   "metadata": {},
   "source": [
    "Event values: \n",
    "- Task structure: ...\n",
    "- Task points: ...\n",
    "- Task actions: ..."
   ]
  },
  {
   "cell_type": "code",
   "execution_count": null,
   "id": "accepting-bristol",
   "metadata": {},
   "outputs": [],
   "source": [
    "# Load the behavioural data\n",
    "task = load_task_obj(full_path / 'behavioral' / 'task.p')"
   ]
  },
  {
   "cell_type": "code",
   "execution_count": null,
   "id": "mounted-albania",
   "metadata": {},
   "outputs": [],
   "source": [
    "..."
   ]
  },
  {
   "cell_type": "markdown",
   "id": "tribal-question",
   "metadata": {},
   "source": [
    "### Read Spiketimes\n",
    "\n",
    "Spiking data is stored in XX files. "
   ]
  },
  {
   "cell_type": "code",
   "execution_count": null,
   "id": "faced-argument",
   "metadata": {},
   "outputs": [],
   "source": [
    "# Get a list of the available spike files\n",
    "spike_files = get_files(full_path / 'split_files')"
   ]
  },
  {
   "cell_type": "code",
   "execution_count": null,
   "id": "ordered-airport",
   "metadata": {},
   "outputs": [],
   "source": [
    "# Check the number of available spike files\n",
    "print('Number of spike files: {}'.format(len(spike_files)))"
   ]
  },
  {
   "cell_type": "code",
   "execution_count": null,
   "id": "dynamic-township",
   "metadata": {},
   "outputs": [],
   "source": [
    "# Load example spike file\n",
    "h5file = h5py.File(full_path / 'split_files' / spike_files[3], 'r')\n",
    "\n",
    "# Extract sorted spike time data\n",
    "spike_data = h5file['spike_data_sorted']"
   ]
  },
  {
   "cell_type": "code",
   "execution_count": null,
   "id": "voluntary-jones",
   "metadata": {},
   "outputs": [],
   "source": [
    "# Check the available data keys\n",
    "print(spike_data.keys())"
   ]
  },
  {
   "cell_type": "code",
   "execution_count": null,
   "id": "fluid-muscle",
   "metadata": {},
   "outputs": [],
   "source": [
    "# Calculate and plot the average waveform\n",
    "avg = np.mean(waveforms, 0)\n",
    "plt.plot(avg)"
   ]
  },
  {
   "cell_type": "markdown",
   "id": "sustainable-portable",
   "metadata": {},
   "source": [
    "### LFP Files\n",
    "\n",
    "..."
   ]
  },
  {
   "cell_type": "code",
   "execution_count": null,
   "id": "horizontal-reality",
   "metadata": {},
   "outputs": [],
   "source": [
    "# Get a list of the available LFP files\n",
    "lfp_files = get_files(full_path / 'micro_lfp')"
   ]
  },
  {
   "cell_type": "code",
   "execution_count": null,
   "id": "deluxe-module",
   "metadata": {},
   "outputs": [],
   "source": [
    "# Check the number of avaialble LFP files\n",
    "print('Number of LFP files: {}'.format(len(lfp_files)))"
   ]
  },
  {
   "cell_type": "code",
   "execution_count": null,
   "id": "attended-characteristic",
   "metadata": {},
   "outputs": [],
   "source": [
    "# Load an example LFP file\n",
    "f_ind = 0\n",
    "with open(full_path /  'micro_lfp' / lfp_files[f_ind], 'rb') as pfile:\n",
    "    temp = load(...)"
   ]
  },
  {
   "cell_type": "code",
   "execution_count": null,
   "id": "accepted-alberta",
   "metadata": {},
   "outputs": [],
   "source": [
    "# Plot an example segment of LFP data\n",
    "plt.plot(temp)"
   ]
  }
 ],
 "metadata": {
  "kernelspec": {
   "display_name": "Python 3",
   "language": "python",
   "name": "python3"
  },
  "language_info": {
   "codemirror_mode": {
    "name": "ipython",
    "version": 3
   },
   "file_extension": ".py",
   "mimetype": "text/x-python",
   "name": "python",
   "nbconvert_exporter": "python",
   "pygments_lexer": "ipython3",
   "version": "3.8.8"
  }
 },
 "nbformat": 4,
 "nbformat_minor": 5
}
