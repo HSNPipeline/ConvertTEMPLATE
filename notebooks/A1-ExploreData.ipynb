{
 "cells": [
  {
   "cell_type": "markdown",
   "id": "infrared-welcome",
   "metadata": {},
   "source": [
    "# Data Explorations\n",
    "\n",
    "This notebook explores example data files.\n",
    "\n",
    "These data have already been 'pre-processed', including:\n",
    "- Parsing the logfile into a task object\n",
    "- Spike sorting, and saving out the spike results"
   ]
  },
  {
   "cell_type": "code",
   "execution_count": null,
   "id": "enhanced-inventory",
   "metadata": {},
   "outputs": [],
   "source": [
    "%config Completer.use_jedi = False"
   ]
  },
  {
   "cell_type": "code",
   "execution_count": null,
   "id": "15587909",
   "metadata": {},
   "outputs": [],
   "source": [
    "import h5py\n",
    "\n",
    "from spiketools.plts.spikes import plot_waveform"
   ]
  },
  {
   "cell_type": "code",
   "execution_count": null,
   "id": "61dba1ba",
   "metadata": {},
   "outputs": [],
   "source": [
    "# Import hsntools code\n",
    "from hsntools.paths import Paths\n",
    "from hsntools.io import load_task_object, open_h5file\n",
    "from hsntools.io.utils import get_files, make_session_name"
   ]
  },
  {
   "cell_type": "markdown",
   "id": "flush-timeline",
   "metadata": {},
   "source": [
    "## Settings"
   ]
  },
  {
   "cell_type": "code",
   "execution_count": null,
   "id": "eca26f7b",
   "metadata": {},
   "outputs": [],
   "source": [
    "# Define experiment\n",
    "experiment = '...'"
   ]
  },
  {
   "cell_type": "code",
   "execution_count": null,
   "id": "crude-seattle",
   "metadata": {},
   "outputs": [],
   "source": [
    "# Define subject information\n",
    "subject = 'example'\n",
    "session = 'session_0'"
   ]
  },
  {
   "cell_type": "code",
   "execution_count": null,
   "id": "e20ed70d",
   "metadata": {},
   "outputs": [],
   "source": [
    "# Define project path\n",
    "project_path = '...'"
   ]
  },
  {
   "cell_type": "code",
   "execution_count": null,
   "id": "dd637d8f",
   "metadata": {},
   "outputs": [],
   "source": [
    "# Define paths object\n",
    "paths = Paths(project_path, subject, experiment, session)"
   ]
  },
  {
   "cell_type": "code",
   "execution_count": null,
   "id": "72686c69",
   "metadata": {},
   "outputs": [],
   "source": [
    "# Define the session name\n",
    "session_name = make_session_name(subject, experiment, session)"
   ]
  },
  {
   "cell_type": "markdown",
   "id": "hearing-oklahoma",
   "metadata": {},
   "source": [
    "## Task Information\n",
    "\n",
    "Timing notes:\n",
    "- XX\n",
    "\n",
    "Things in the task object:\n",
    "- XX"
   ]
  },
  {
   "cell_type": "code",
   "execution_count": null,
   "id": "accepting-bristol",
   "metadata": {},
   "outputs": [],
   "source": [
    "# Load the behavioural data\n",
    "task = load_task_object(session_name, folder=paths.task)"
   ]
  },
  {
   "cell_type": "code",
   "execution_count": null,
   "id": "mounted-albania",
   "metadata": {},
   "outputs": [],
   "source": [
    "# Check the task data\n",
    "task"
   ]
  },
  {
   "cell_type": "code",
   "execution_count": null,
   "id": "d8e96246",
   "metadata": {},
   "outputs": [],
   "source": [
    "# Check the meta data for the task information object\n",
    "task.meta"
   ]
  },
  {
   "cell_type": "code",
   "execution_count": null,
   "id": "7866a204",
   "metadata": {},
   "outputs": [],
   "source": [
    "# Check the attributes and methods of the task object\n",
    "[el for el in dir(task) if el[0] != '_']"
   ]
  },
  {
   "cell_type": "code",
   "execution_count": null,
   "id": "5a7321ac",
   "metadata": {},
   "outputs": [],
   "source": [
    "# Check the available keys for different aspects of the task object\n",
    "for attr in ['meta', 'experiment', 'stimuli', 'trial', 'phase_times', 'responses']:\n",
    "    print(attr + ' keys:\\n', list(getattr(task, attr).keys()), '\\n')"
   ]
  },
  {
   "cell_type": "markdown",
   "id": "f9bfa97b",
   "metadata": {},
   "source": [
    "## Check Trial Information"
   ]
  },
  {
   "cell_type": "code",
   "execution_count": null,
   "id": "2bed6895",
   "metadata": {},
   "outputs": [],
   "source": [
    "# Check the number of trials\n",
    "print('Number of trial numbers: \\t{}'.format(len(set(task.trial['trial']))))"
   ]
  },
  {
   "cell_type": "code",
   "execution_count": null,
   "id": "da35e13d",
   "metadata": {},
   "outputs": [],
   "source": [
    "# Check position data\n",
    "task.position"
   ]
  },
  {
   "cell_type": "code",
   "execution_count": null,
   "id": "31198767",
   "metadata": {},
   "outputs": [],
   "source": [
    "..."
   ]
  },
  {
   "cell_type": "markdown",
   "id": "a97b8e4e",
   "metadata": {},
   "source": [
    "### Check Synchronization"
   ]
  },
  {
   "cell_type": "code",
   "execution_count": null,
   "id": "e9e3f64c",
   "metadata": {},
   "outputs": [],
   "source": [
    "# Plot the sync pulse alignment\n",
    "task.plot_sync_allignment()"
   ]
  },
  {
   "cell_type": "markdown",
   "id": "tribal-question",
   "metadata": {},
   "source": [
    "## Spiketimes\n",
    "\n",
    "Spiking data is stored in XX files. "
   ]
  },
  {
   "cell_type": "code",
   "execution_count": null,
   "id": "faced-argument",
   "metadata": {},
   "outputs": [],
   "source": [
    "# Get a list of the available spike files\n",
    "spike_files = get_files(paths.spikes)"
   ]
  },
  {
   "cell_type": "code",
   "execution_count": null,
   "id": "ordered-airport",
   "metadata": {},
   "outputs": [],
   "source": [
    "# Check the number of available spike files\n",
    "print('Number of spike files: {}'.format(len(spike_files)))"
   ]
  },
  {
   "cell_type": "code",
   "execution_count": null,
   "id": "dynamic-township",
   "metadata": {},
   "outputs": [],
   "source": [
    "# Open example spike file\n",
    "h5file = h5py.File(paths.spikes / spike_files[10], 'r')\n",
    "\n",
    "# Extract sorted spike time data\n",
    "spike_data = h5file['spike_data_sorted']"
   ]
  },
  {
   "cell_type": "code",
   "execution_count": null,
   "id": "voluntary-jones",
   "metadata": {},
   "outputs": [],
   "source": [
    "# Check the available data keys\n",
    "print(spike_data.keys())"
   ]
  },
  {
   "cell_type": "code",
   "execution_count": null,
   "id": "d912fb85",
   "metadata": {},
   "outputs": [],
   "source": [
    "# Check data objects\n",
    "print(spike_data['spike_clusters'])\n",
    "print(spike_data['spike_times'])\n",
    "print(spike_data['spike_waveforms'])"
   ]
  },
  {
   "cell_type": "code",
   "execution_count": null,
   "id": "14e81abc",
   "metadata": {},
   "outputs": [],
   "source": [
    "# Load all the available data\n",
    "clusters = spike_data['spike_clusters'][:]\n",
    "times = spike_data['spike_times'][:]\n",
    "waveforms = spike_data['spike_waveforms'][:]"
   ]
  },
  {
   "cell_type": "code",
   "execution_count": null,
   "id": "454b85d9",
   "metadata": {},
   "outputs": [],
   "source": [
    "# Close the h5file\n",
    "h5file.close()"
   ]
  },
  {
   "cell_type": "code",
   "execution_count": null,
   "id": "0d00e642",
   "metadata": {},
   "outputs": [],
   "source": [
    "# Note: can also use the `open_h5file` contextmanager\n",
    "with open_h5file(spike_files[0], folder=paths.spikes) as h5file:\n",
    "    spike_data = h5file['spike_data_sorted']\n",
    "    print('Cluster labels: ', set(spike_data['spike_clusters'][:]))"
   ]
  },
  {
   "cell_type": "code",
   "execution_count": null,
   "id": "fluid-muscle",
   "metadata": {},
   "outputs": [],
   "source": [
    "# Plot the average waveform\n",
    "plot_waveform(waveforms, average='mean')"
   ]
  },
  {
   "cell_type": "markdown",
   "id": "sustainable-portable",
   "metadata": {},
   "source": [
    "### LFP Files\n",
    "\n",
    "..."
   ]
  },
  {
   "cell_type": "code",
   "execution_count": null,
   "id": "horizontal-reality",
   "metadata": {},
   "outputs": [],
   "source": [
    "# # Get a list of the available LFP files\n",
    "# lfp_files = get_files(full_path / 'micro_lfp')"
   ]
  },
  {
   "cell_type": "code",
   "execution_count": null,
   "id": "deluxe-module",
   "metadata": {},
   "outputs": [],
   "source": [
    "# # Check the number of avaialble LFP files\n",
    "# print('Number of LFP files: {}'.format(len(lfp_files)))"
   ]
  },
  {
   "cell_type": "code",
   "execution_count": null,
   "id": "attended-characteristic",
   "metadata": {},
   "outputs": [],
   "source": [
    "# # Load an example LFP file\n",
    "# f_ind = 0\n",
    "# with open(full_path /  'micro_lfp' / lfp_files[f_ind], 'rb') as pfile:\n",
    "#     temp = load(...)"
   ]
  },
  {
   "cell_type": "code",
   "execution_count": null,
   "id": "accepted-alberta",
   "metadata": {},
   "outputs": [],
   "source": [
    "# # Plot an example segment of LFP data\n",
    "# plt.plot(temp)"
   ]
  }
 ],
 "metadata": {
  "kernelspec": {
   "display_name": "Python 3 (ipykernel)",
   "language": "python",
   "name": "python3"
  },
  "language_info": {
   "codemirror_mode": {
    "name": "ipython",
    "version": 3
   },
   "file_extension": ".py",
   "mimetype": "text/x-python",
   "name": "python",
   "nbconvert_exporter": "python",
   "pygments_lexer": "ipython3",
   "version": "3.8.3"
  }
 },
 "nbformat": 4,
 "nbformat_minor": 5
}
