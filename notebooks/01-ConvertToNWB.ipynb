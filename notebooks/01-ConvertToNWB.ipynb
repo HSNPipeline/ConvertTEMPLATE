{
 "cells": [
  {
   "cell_type": "markdown",
   "id": "proved-reduction",
   "metadata": {},
   "source": [
    "# Converting Local Data to NWB\n",
    "\n",
    "This notebook steps through converting data to NWB format. \n",
    "\n",
    "Note that this notebook doesn't use the metadata files."
   ]
  },
  {
   "cell_type": "code",
   "execution_count": null,
   "id": "mexican-brunswick",
   "metadata": {},
   "outputs": [],
   "source": [
    "%config Completer.use_jedi = False"
   ]
  },
  {
   "cell_type": "code",
   "execution_count": null,
   "id": "medieval-karen",
   "metadata": {},
   "outputs": [],
   "source": [
    "from pathlib import Path\n",
    "\n",
    "from datetime import datetime\n",
    "from dateutil.tz import tzlocal\n",
    "\n",
    "import h5py\n",
    "import joblib\n",
    "import numpy as np\n",
    "import pandas as pd\n",
    "\n",
    "from pynwb import NWBFile, NWBHDF5IO, TimeSeries, ProcessingModule\n",
    "from pynwb.file import Subject\n",
    "from pynwb.behavior import Position, SpatialSeries\n",
    "from pynwb.ecephys import ElectricalSeries, SpikeEventSeries"
   ]
  },
  {
   "cell_type": "code",
   "execution_count": null,
   "id": "substantial-motivation",
   "metadata": {},
   "outputs": [],
   "source": [
    "# Import local code module\n",
    "import sys\n",
    "sys.path.append('..')\n",
    "from conv.utils import clean_strings, get_event_time\n",
    "from conv.io import get_files, load_task_object"
   ]
  },
  {
   "cell_type": "markdown",
   "id": "found-checklist",
   "metadata": {},
   "source": [
    "### Settings"
   ]
  },
  {
   "cell_type": "code",
   "execution_count": null,
   "id": "crude-chemistry",
   "metadata": {},
   "outputs": [],
   "source": [
    "# Define subject information\n",
    "subj = 'example'\n",
    "session = 'session_0'"
   ]
  },
  {
   "cell_type": "code",
   "execution_count": null,
   "id": "mechanical-idaho",
   "metadata": {},
   "outputs": [],
   "source": [
    "# Define the base data folder\n",
    "data_folder = Path('...')\n",
    "\n",
    "# Define the full subject & session path\n",
    "full_path = data_folder / subj / session"
   ]
  },
  {
   "cell_type": "code",
   "execution_count": null,
   "id": "major-identity",
   "metadata": {},
   "outputs": [],
   "source": [
    "# Load behavior data\n",
    "task = load_task_object(full_path / 'behavioral' / 'task.p')"
   ]
  },
  {
   "cell_type": "code",
   "execution_count": null,
   "id": "economic-director",
   "metadata": {},
   "outputs": [],
   "source": [
    "# Get current date\n",
    "current_date = datetime.now(tzlocal())"
   ]
  },
  {
   "cell_type": "markdown",
   "id": "ready-bernard",
   "metadata": {},
   "source": [
    "## Initialize a NWB File\n",
    "\n",
    "Set up the file."
   ]
  },
  {
   "cell_type": "markdown",
   "id": "ffbfeb27",
   "metadata": {},
   "source": [
    "### Define Subject Information"
   ]
  },
  {
   "cell_type": "code",
   "execution_count": null,
   "id": "41c168dd",
   "metadata": {},
   "outputs": [],
   "source": [
    "# Set subject information\n",
    "age = None\n",
    "sex = None\n",
    "description = 'participant'\n",
    "species = 'human'\n",
    "subject_id = 'test'"
   ]
  },
  {
   "cell_type": "code",
   "execution_count": null,
   "id": "59d2dfc5",
   "metadata": {},
   "outputs": [],
   "source": [
    "# Create subject object\n",
    "subject = Subject(age=age,\n",
    "                  sex=sex,\n",
    "                  description=description, \n",
    "                  species=species,\n",
    "                  subject_id=subject_id)"
   ]
  },
  {
   "cell_type": "markdown",
   "id": "spread-belief",
   "metadata": {},
   "source": [
    "### Define Recording Metadata"
   ]
  },
  {
   "cell_type": "code",
   "execution_count": null,
   "id": "dominican-duplicate",
   "metadata": {},
   "outputs": [],
   "source": [
    "# Define metadata for NWB file\n",
    "session_description = 'XX'\n",
    "identifier = 'XX'\n",
    "experimenter = ['Experimenter1', 'Experimenter2']\n",
    "experiment_description = 'Experiment information - example.'\n",
    "session_id = 'testfile'\n",
    "institution = 'Columbia'\n",
    "keywords = ['keyword1', 'keyword2']\n",
    "source_script='https://github.com/JacobsSU/AnalyzeTH/'\n",
    "source_script_file_name='01-ConvertToNWB.ipynb'\n",
    "stimulus_notes = 'Notes on stimulus presentation.'\n",
    "lab = 'Jacobs Lab'"
   ]
  },
  {
   "cell_type": "code",
   "execution_count": null,
   "id": "a6ad8a9f",
   "metadata": {},
   "outputs": [],
   "source": [
    "# Define information collected from task object\n",
    "experiment_description = \\\n",
    "    'Task: ' + task.experiment['version']['label'] + \\\n",
    "    ' build-' + task.experiment['version']['number'] + \\\n",
    "    ' ({})'.format(task.experiment['language'])"
   ]
  },
  {
   "cell_type": "code",
   "execution_count": null,
   "id": "needed-revelation",
   "metadata": {},
   "outputs": [],
   "source": [
    "# Define collection site information\n",
    "if subj[0:2] == 'XX':\n",
    "    data_collection = 'XX'\n",
    "else:\n",
    "    data_collection = 'unknown'"
   ]
  },
  {
   "cell_type": "markdown",
   "id": "instructional-partnership",
   "metadata": {},
   "source": [
    "### Collect together into NWB file"
   ]
  },
  {
   "cell_type": "code",
   "execution_count": null,
   "id": "senior-elite",
   "metadata": {},
   "outputs": [],
   "source": [
    "# Initialize a NWB file\n",
    "nwbfile = NWBFile(session_description=session_description,\n",
    "                  identifier=session_name,\n",
    "                  session_start_time=session_date,\n",
    "                  file_create_date=current_date,\n",
    "                  experimenter=experimenter,\n",
    "                  experiment_description=experiment_description,\n",
    "                  session_id=session_id,\n",
    "                  institution=institution,\n",
    "                  keywords=keywords,\n",
    "                  notes=notes,\n",
    "                  source_script=source_script,\n",
    "                  source_script_file_name=source_script_file_name,\n",
    "                  data_collection=data_collection,\n",
    "                  stimulus_notes=stimulus_notes,\n",
    "                  lab=lab,\n",
    "                  subject=subject)"
   ]
  },
  {
   "cell_type": "markdown",
   "id": "musical-partner",
   "metadata": {},
   "source": [
    "## Recording Definition"
   ]
  },
  {
   "cell_type": "markdown",
   "id": "configured-pottery",
   "metadata": {},
   "source": [
    "### Device(s)"
   ]
  },
  {
   "cell_type": "code",
   "execution_count": null,
   "id": "developing-humor",
   "metadata": {},
   "outputs": [],
   "source": [
    "# Device information\n",
    "device_name = 'RECORDING DEVICE'\n",
    "device_desc = 'RECORDING DEVICE DESCRIPTION'\n",
    "device_manu = 'RECORDING DEVICE MANUFACTURER'\n",
    "\n",
    "# Create device object\n",
    "device = nwbfile.create_device(device_name, device_desc, device_manu)"
   ]
  },
  {
   "cell_type": "code",
   "execution_count": null,
   "id": "absolute-latter",
   "metadata": {},
   "outputs": [],
   "source": [
    "# Check out the defined device\n",
    "device"
   ]
  },
  {
   "cell_type": "markdown",
   "id": "fitted-moscow",
   "metadata": {},
   "source": [
    "### Electrodes"
   ]
  },
  {
   "cell_type": "code",
   "execution_count": null,
   "id": "absolute-swiss",
   "metadata": {},
   "outputs": [],
   "source": [
    "# Add electrode description\n",
    "location = 'WHERE'\n",
    "electrode_name = '{}-microwires-{}'.format('A', 'chnum')\n",
    "description = \"Behnke Fried/Micro Inner Wire Bundle....ADD DETAILS.\"\n",
    "\n",
    "# Add electrode group\n",
    "electrode_group = nwbfile.create_electrode_group(electrode_name,\n",
    "                                                 description=description,\n",
    "                                                 location=location,\n",
    "                                                 device=device)"
   ]
  },
  {
   "cell_type": "code",
   "execution_count": null,
   "id": "detected-solution",
   "metadata": {},
   "outputs": [],
   "source": [
    "# Define / get electrode information\n",
    "x_pos, y_pos, z_pos = 0.0, 0.0, 0.0\n",
    "imp = np.nan\n",
    "location = 'place'\n",
    "filtering = '0, np.inf'\n",
    "reference = None"
   ]
  },
  {
   "cell_type": "code",
   "execution_count": null,
   "id": "advised-intake",
   "metadata": {},
   "outputs": [],
   "source": [
    "# Add electrode to NWB\n",
    "n_electrodes = 8\n",
    "for ind in range(n_electrodes):\n",
    "    nwbfile.add_electrode(x_pos, y_pos, z_pos, imp, location, filtering, electrode_group, \n",
    "                          id=ind, reference=reference)"
   ]
  },
  {
   "cell_type": "markdown",
   "id": "functioning-summer",
   "metadata": {},
   "source": [
    "## Stimuli\n",
    "\n",
    "Add stimuli of interest to the NWB file."
   ]
  },
  {
   "cell_type": "code",
   "execution_count": null,
   "id": "mobile-chase",
   "metadata": {},
   "outputs": [],
   "source": [
    "# Add stimuli\n",
    "stim_description = 'DESCRIPTION.'\n",
    "for stim in stimuli:\n",
    "    nwbfile.add_stimulus(stim)"
   ]
  },
  {
   "cell_type": "markdown",
   "id": "moral-return",
   "metadata": {},
   "source": [
    "## Behaviour data"
   ]
  },
  {
   "cell_type": "markdown",
   "id": "primary-possibility",
   "metadata": {},
   "source": [
    "### Trial Data"
   ]
  },
  {
   "cell_type": "code",
   "execution_count": null,
   "id": "laden-static",
   "metadata": {},
   "outputs": [],
   "source": [
    "# Define trial information\n",
    "nwbfile.add_trial_column('...', '...')"
   ]
  },
  {
   "cell_type": "code",
   "execution_count": null,
   "id": "ordinary-pilot",
   "metadata": {},
   "outputs": [],
   "source": [
    "# Collect trial indices\n",
    "trial_inds = ..."
   ]
  },
  {
   "cell_type": "code",
   "execution_count": null,
   "id": "consecutive-assessment",
   "metadata": {},
   "outputs": [],
   "source": [
    "# Add event information to NWB file\n",
    "n_trials = len(trial_inds)\n",
    "for t_ind in range(len(task.trial['trial'])):\n",
    "    \n",
    "    # Add trial information to file\n",
    "    try:\n",
    "        nwbfile.add_trial(start_time=...,\n",
    "                          ...,\n",
    "                          stop_time=...\n",
    "                         )\n",
    "    except IndexError:\n",
    "        print('Incomplete last trial - skipped adding.')"
   ]
  },
  {
   "cell_type": "code",
   "execution_count": null,
   "id": "average-smile",
   "metadata": {
    "scrolled": false
   },
   "outputs": [],
   "source": [
    "# Check the trial information as a dataframe\n",
    "behav = nwbfile.trials.to_dataframe()\n",
    "behav.head()"
   ]
  },
  {
   "cell_type": "markdown",
   "id": "simplified-participation",
   "metadata": {},
   "source": [
    "### Position Data"
   ]
  },
  {
   "cell_type": "code",
   "execution_count": null,
   "id": "immune-better",
   "metadata": {},
   "outputs": [],
   "source": [
    "# Set position data as a spatial series and add to NWB file\n",
    "position = Position(name='position')\n",
    "position.create_spatial_series(name='player_position',\n",
    "                               data=np.vstack([task.pos['x'], task.pos['z']]),\n",
    "                               unit='virtual units',\n",
    "                               timestamps=task.position['time'],\n",
    "                               reference_frame='XX',\n",
    "                               description='Position of the subject.')\n",
    "nwbfile.add_acquisition(position)"
   ]
  },
  {
   "cell_type": "markdown",
   "id": "personalized-version",
   "metadata": {},
   "source": [
    "#### Add position derived measures as ProcessingModule"
   ]
  },
  {
   "cell_type": "code",
   "execution_count": null,
   "id": "harmful-apartment",
   "metadata": {},
   "outputs": [],
   "source": [
    "# Create time series for speed & linear positon\n",
    "speed = TimeSeries(name='speed',\n",
    "                   description='The players movement speed, computed from the position data.',\n",
    "                   data = task.position['speed'],\n",
    "                   unit = 'virtual units / second',\n",
    "                   timestamps=task.position['time'])"
   ]
  },
  {
   "cell_type": "code",
   "execution_count": null,
   "id": "funky-valuable",
   "metadata": {},
   "outputs": [],
   "source": [
    "# Add derived spatial measures to NWB file as ProcessingModule\n",
    "position_things = ProcessingModule(name='position_measures',\n",
    "                                   description='Derived measures related to position data.',\n",
    "                                   data_interfaces=[speed])\n",
    "nwbfile.add_processing_module(position_things)"
   ]
  },
  {
   "cell_type": "markdown",
   "id": "ceramic-migration",
   "metadata": {},
   "source": [
    "## Spiking Data"
   ]
  },
  {
   "cell_type": "code",
   "execution_count": null,
   "id": "civil-stuff",
   "metadata": {},
   "outputs": [],
   "source": [
    "# Get a list of the available spike files\n",
    "spike_files = get_files(full_path / 'spikes')"
   ]
  },
  {
   "cell_type": "code",
   "execution_count": null,
   "id": "pregnant-gibraltar",
   "metadata": {},
   "outputs": [],
   "source": [
    "# Specify additional metadata columns for units\n",
    "nwbfile.add_unit_column('channel', 'The recording channel of this unit.')\n",
    "nwbfile.add_unit_column('location', 'The anatomical location of this unit.')"
   ]
  },
  {
   "cell_type": "code",
   "execution_count": null,
   "id": "wired-japan",
   "metadata": {},
   "outputs": [],
   "source": [
    "# Add each unit to the NWB file\n",
    "for ind, spike_file in enumerate(spike_files):\n",
    "    \n",
    "    # Load spike file & get spike data\n",
    "    # NOTE: currently loads HDF5 file - update as needed\n",
    "    with h5py.File(full_path / 'spikes' / spike_file, 'r') as h5file:\n",
    "        spike_data = h5file['spike_data_sorted']\n",
    "    \n",
    "        # Add unit data\n",
    "        nwbfile.add_unit(id=ind,\n",
    "                         electrodes=[0],\n",
    "                         channel=...,\n",
    "                         location=...\n",
    "                         spike_times=...)"
   ]
  },
  {
   "cell_type": "markdown",
   "id": "suitable-zealand",
   "metadata": {},
   "source": [
    "## Field Data"
   ]
  },
  {
   "cell_type": "code",
   "execution_count": null,
   "id": "aware-abuse",
   "metadata": {},
   "outputs": [],
   "source": [
    "# Create the electrode table\n",
    "electrode_table_region = nwbfile.create_electrode_table_region([0], 'xx')"
   ]
  },
  {
   "cell_type": "code",
   "execution_count": null,
   "id": "solar-banks",
   "metadata": {},
   "outputs": [],
   "source": [
    "# Get the list of available LFP files\n",
    "lfp_files = get_files(full_path / 'lfp', select='.p')"
   ]
  },
  {
   "cell_type": "code",
   "execution_count": null,
   "id": "recorded-shopper",
   "metadata": {},
   "outputs": [],
   "source": [
    "# Add each LFP trace as a new object\n",
    "for ind, lfp_file in enumerate(lfp_files):\n",
    "    with open(full_path / 'lfp' / lfp_file, 'rb') as pfile:\n",
    "        \n",
    "        # Load ephys data\n",
    "        #ephys_data = load(...)\n",
    "        \n",
    "        # Create & add electrical series to store LFP data\n",
    "        ephys_ts = ElectricalSeries('field_data_' + str(ind),\n",
    "                                    ephys_data,\n",
    "                                    electrode_table_region,\n",
    "                                    starting_time=0.,\n",
    "                                    rate=500.,\n",
    "                                    resolution=np.inf,\n",
    "                                    comments=\"...\",\n",
    "                                    description=\"LFP time series.\")\n",
    "        nwbfile.add_acquisition(ephys_ts)"
   ]
  },
  {
   "cell_type": "markdown",
   "id": "secondary-special",
   "metadata": {},
   "source": [
    "### Save out local data file"
   ]
  },
  {
   "cell_type": "code",
   "execution_count": null,
   "id": "wanted-horizontal",
   "metadata": {},
   "outputs": [],
   "source": [
    "# Save out an example NWB file\n",
    "with NWBHDF5IO('nwb_local_data.nwb', 'w') as io:\n",
    "    io.write(nwbfile)"
   ]
  }
 ],
 "metadata": {
  "kernelspec": {
   "display_name": "Python 3 (ipykernel)",
   "language": "python",
   "name": "python3"
  },
  "language_info": {
   "codemirror_mode": {
    "name": "ipython",
    "version": 3
   },
   "file_extension": ".py",
   "mimetype": "text/x-python",
   "name": "python",
   "nbconvert_exporter": "python",
   "pygments_lexer": "ipython3",
   "version": "3.8.11"
  }
 },
 "nbformat": 4,
 "nbformat_minor": 5
}
