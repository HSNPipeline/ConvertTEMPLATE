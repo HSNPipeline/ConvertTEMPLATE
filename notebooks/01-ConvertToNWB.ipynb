{
 "cells": [
  {
   "cell_type": "markdown",
   "id": "proved-reduction",
   "metadata": {},
   "source": [
    "# Converting Local Data to NWB\n",
    "\n",
    "This notebook steps through converting data to NWB format. \n",
    "\n",
    "Note that this notebook doesn't use the metadata files."
   ]
  },
  {
   "cell_type": "code",
   "execution_count": 1,
   "id": "mexican-brunswick",
   "metadata": {},
   "outputs": [],
   "source": [
    "%config Completer.use_jedi = False"
   ]
  },
  {
   "cell_type": "code",
   "execution_count": 2,
   "id": "medieval-karen",
   "metadata": {},
   "outputs": [],
   "source": [
    "from pathlib import Path\n",
    "\n",
    "from datetime import datetime\n",
    "from dateutil.tz import tzlocal\n",
    "\n",
    "import h5py\n",
    "import joblib\n",
    "import numpy as np\n",
    "import pandas as pd\n",
    "\n",
    "from pynwb import NWBFile, NWBHDF5IO, TimeSeries, ProcessingModule\n",
    "from pynwb.file import Subject\n",
    "from pynwb.behavior import Position, SpatialSeries\n",
    "from pynwb.ecephys import ElectricalSeries, SpikeEventSeries"
   ]
  },
  {
   "cell_type": "code",
   "execution_count": 3,
   "id": "substantial-motivation",
   "metadata": {},
   "outputs": [],
   "source": [
    "# Import local code module\n",
    "import sys\n",
    "sys.path.append('..')\n",
    "from conv.utils import clean_strings, get_event_time\n",
    "from conv.io import get_files"
   ]
  },
  {
   "cell_type": "markdown",
   "id": "found-checklist",
   "metadata": {},
   "source": [
    "### Settings"
   ]
  },
  {
   "cell_type": "code",
   "execution_count": 4,
   "id": "crude-chemistry",
   "metadata": {},
   "outputs": [],
   "source": [
    "# Define subject information\n",
    "subj = 'example'\n",
    "session = 'session_0'"
   ]
  },
  {
   "cell_type": "code",
   "execution_count": 5,
   "id": "mechanical-idaho",
   "metadata": {},
   "outputs": [],
   "source": [
    "# Define the base data folder\n",
    "data_folder = Path('...')\n",
    "\n",
    "# Define the full subject & session path\n",
    "full_path = data_folder / subj / session"
   ]
  },
  {
   "cell_type": "code",
   "execution_count": 6,
   "id": "major-identity",
   "metadata": {},
   "outputs": [],
   "source": [
    "# Load behavior data\n",
    "task = load_task_obj(full_path / 'behavioral' / 'task.p')"
   ]
  },
  {
   "cell_type": "code",
   "execution_count": 7,
   "id": "economic-director",
   "metadata": {},
   "outputs": [],
   "source": [
    "# Get current date\n",
    "current_date = datetime.now(tzlocal())"
   ]
  },
  {
   "cell_type": "markdown",
   "id": "ready-bernard",
   "metadata": {},
   "source": [
    "## Initialize a NWB File\n",
    "\n",
    "Set up the file."
   ]
  },
  {
   "cell_type": "markdown",
   "id": "spread-belief",
   "metadata": {},
   "source": [
    "### Define Recording Metadata"
   ]
  },
  {
   "cell_type": "code",
   "execution_count": 8,
   "id": "dominican-duplicate",
   "metadata": {},
   "outputs": [],
   "source": [
    "# Define metadata for NWB file\n",
    "session_description = 'XX'\n",
    "experiment_description = 'Example conversion to NWB format.'\n",
    "identifier = 'XX'\n",
    "experimenter = 'XX'\n",
    "lab = 'U01 Group'\n",
    "institution = 'Columbia'\n",
    "session_id = '001'"
   ]
  },
  {
   "cell_type": "code",
   "execution_count": 9,
   "id": "needed-revelation",
   "metadata": {},
   "outputs": [],
   "source": [
    "# Define collection site information\n",
    "if subj[0:2] == 'XX':\n",
    "    data_collection = 'XX'\n",
    "else:\n",
    "    data_collection = 'unknown'"
   ]
  },
  {
   "cell_type": "markdown",
   "id": "extreme-relationship",
   "metadata": {},
   "source": [
    "### Define Subject Information"
   ]
  },
  {
   "cell_type": "code",
   "execution_count": 10,
   "id": "empty-heart",
   "metadata": {},
   "outputs": [],
   "source": [
    "# Set subject information\n",
    "age = None\n",
    "sex = None\n",
    "description = None\n",
    "species = 'human'\n",
    "subject_id = None"
   ]
  },
  {
   "cell_type": "code",
   "execution_count": 11,
   "id": "advisory-seeking",
   "metadata": {},
   "outputs": [],
   "source": [
    "# Create subject object\n",
    "subject = Subject(age=age,\n",
    "                  sex=sex,\n",
    "                  description=description, \n",
    "                  species=species,\n",
    "                  subject_id=subject_id)"
   ]
  },
  {
   "cell_type": "markdown",
   "id": "instructional-partnership",
   "metadata": {},
   "source": [
    "### Collect together into NWB file"
   ]
  },
  {
   "cell_type": "code",
   "execution_count": 12,
   "id": "senior-elite",
   "metadata": {},
   "outputs": [],
   "source": [
    "# Initialize a NWB file\n",
    "nwbfile = NWBFile(session_description=session_description,\n",
    "                  identifier=identifier,\n",
    "                  file_create_date=current_date,\n",
    "                  session_start_time=current_date,\n",
    "                  experimenter=experimenter,\n",
    "                  lab=lab,\n",
    "                  institution=institution,\n",
    "                  data_collection=data_collection,\n",
    "                  experiment_description=experiment_description,\n",
    "                  subject=subject,\n",
    "                  session_id=session_id)"
   ]
  },
  {
   "cell_type": "markdown",
   "id": "musical-partner",
   "metadata": {},
   "source": [
    "## Recording Definition"
   ]
  },
  {
   "cell_type": "markdown",
   "id": "configured-pottery",
   "metadata": {},
   "source": [
    "### Device(s)"
   ]
  },
  {
   "cell_type": "code",
   "execution_count": 13,
   "id": "developing-humor",
   "metadata": {},
   "outputs": [],
   "source": [
    "# Device information\n",
    "device_name = 'RECORDING DEVICE'\n",
    "device_desc = 'RECORDING DEVICE DESCRIPTION'\n",
    "device_manu = 'RECORDING DEVICE MANUFACTURER'\n",
    "\n",
    "# Create device object\n",
    "device = nwbfile.create_device(device_name, device_desc, device_manu)"
   ]
  },
  {
   "cell_type": "code",
   "execution_count": 14,
   "id": "absolute-latter",
   "metadata": {},
   "outputs": [
    {
     "data": {
      "text/plain": [
       "RECORDING DEVICE pynwb.device.Device at 0x140417075578864\n",
       "Fields:\n",
       "  description: RECORDING DEVICE DESCRIPTION\n",
       "  manufacturer: RECORDING DEVICE MANUFACTURER"
      ]
     },
     "execution_count": 14,
     "metadata": {},
     "output_type": "execute_result"
    }
   ],
   "source": [
    "# Check out the defined device\n",
    "device"
   ]
  },
  {
   "cell_type": "markdown",
   "id": "fitted-moscow",
   "metadata": {},
   "source": [
    "### Electrodes"
   ]
  },
  {
   "cell_type": "code",
   "execution_count": 15,
   "id": "absolute-swiss",
   "metadata": {},
   "outputs": [],
   "source": [
    "# Add electrode description\n",
    "location = 'WHERE'\n",
    "electrode_name = '{}-microwires-{}'.format('A', 'chnum')\n",
    "description = \"Behnke Fried/Micro Inner Wire Bundle....ADD DETAILS.\"\n",
    "\n",
    "# Add electrode group\n",
    "electrode_group = nwbfile.create_electrode_group(electrode_name,\n",
    "                                                 description=description,\n",
    "                                                 location=location,\n",
    "                                                 device=device)"
   ]
  },
  {
   "cell_type": "code",
   "execution_count": 16,
   "id": "detected-solution",
   "metadata": {},
   "outputs": [],
   "source": [
    "# Define / get electrode information\n",
    "x_pos, y_pos, z_pos = 0.0, 0.0, 0.0\n",
    "imp = np.nan\n",
    "location = 'place'\n",
    "filtering = '0, np.inf'\n",
    "reference = None"
   ]
  },
  {
   "cell_type": "code",
   "execution_count": 17,
   "id": "advised-intake",
   "metadata": {},
   "outputs": [],
   "source": [
    "# Add electrode to NWB\n",
    "n_electrodes = 5\n",
    "for ind in range(n_electrodes):\n",
    "    nwbfile.add_electrode(x_pos, y_pos, z_pos, imp, location, filtering, electrode_group, \n",
    "                          id=ind, reference=reference)"
   ]
  },
  {
   "cell_type": "markdown",
   "id": "functioning-summer",
   "metadata": {},
   "source": [
    "## Stimuli\n",
    "\n",
    "Add stimuli of interest to the NWB file."
   ]
  },
  {
   "cell_type": "code",
   "execution_count": 20,
   "id": "mobile-chase",
   "metadata": {},
   "outputs": [],
   "source": [
    "# Add stimuli\n",
    "stim_description = 'DESCRIPTION.'\n",
    "for stim in stimuli:\n",
    "    nwbfile.add_stimulus(stim)"
   ]
  },
  {
   "cell_type": "markdown",
   "id": "moral-return",
   "metadata": {},
   "source": [
    "## Behaviour data"
   ]
  },
  {
   "cell_type": "markdown",
   "id": "primary-possibility",
   "metadata": {},
   "source": [
    "### Trial Data"
   ]
  },
  {
   "cell_type": "code",
   "execution_count": 22,
   "id": "laden-static",
   "metadata": {},
   "outputs": [],
   "source": [
    "# Define trial information\n",
    "nwbfile.add_trial_column('...', '...')"
   ]
  },
  {
   "cell_type": "code",
   "execution_count": 23,
   "id": "ordinary-pilot",
   "metadata": {},
   "outputs": [],
   "source": [
    "# Collect trial indices\n",
    "trial_inds = ..."
   ]
  },
  {
   "cell_type": "code",
   "execution_count": 24,
   "id": "basic-innocent",
   "metadata": {},
   "outputs": [],
   "source": [
    "# Get all trial start & stop times\n",
    "trial_start_times = times[np.hstack([np.array([0]), trial_inds[:-1]])]\n",
    "trial_stop_times = times[trial_inds-1]"
   ]
  },
  {
   "cell_type": "code",
   "execution_count": 30,
   "id": "consecutive-assessment",
   "metadata": {},
   "outputs": [],
   "source": [
    "# Add event information to NWB file\n",
    "n_trials = len(trial_inds)\n",
    "for t_ind in range(n_trials):\n",
    "    \n",
    "    # Get trial start and end times\n",
    "    t_start = trial_start_times[t_ind]\n",
    "    t_end = trial_stop_times[t_ind]\n",
    "    \n",
    "    # Add trial information to file\n",
    "    nwbfile.add_trial(start_time=t_start,\n",
    "                      ...,\n",
    "                      stop_time=t_end\n",
    "                     )"
   ]
  },
  {
   "cell_type": "code",
   "execution_count": 31,
   "id": "average-smile",
   "metadata": {
    "scrolled": false
   },
   "outputs": [],
   "source": [
    "# Check the trial information as a dataframe\n",
    "#nwbfile.trials.to_dataframe()"
   ]
  },
  {
   "cell_type": "markdown",
   "id": "simplified-participation",
   "metadata": {},
   "source": [
    "### Position Data"
   ]
  },
  {
   "cell_type": "code",
   "execution_count": 32,
   "id": "specialized-level",
   "metadata": {},
   "outputs": [],
   "source": [
    "# Get location data\n",
    "loc_data = np.vstack([task.pos['x'], task.pos['z']])"
   ]
  },
  {
   "cell_type": "code",
   "execution_count": 33,
   "id": "immune-better",
   "metadata": {},
   "outputs": [],
   "source": [
    "# Set position data as a spatial series and add to NWB file\n",
    "position = Position(name='position')\n",
    "position.create_spatial_series(name='xy_position',\n",
    "                               data=loc_data,\n",
    "                               timestamps=times,\n",
    "                               reference_frame='middle',\n",
    "                               description='XY position of the subject.')\n",
    "nwbfile.add_acquisition(position)"
   ]
  },
  {
   "cell_type": "markdown",
   "id": "personalized-version",
   "metadata": {},
   "source": [
    "#### Add position derived measures as ProcessingModule"
   ]
  },
  {
   "cell_type": "code",
   "execution_count": 34,
   "id": "harmful-apartment",
   "metadata": {},
   "outputs": [],
   "source": [
    "# Create time series for speed & linear positon\n",
    "speed = TimeSeries(name='speed',\n",
    "                   data = np.array(task.pos['speed']),\n",
    "                   unit = 'virtual units / second',\n",
    "                   timestamps=times)"
   ]
  },
  {
   "cell_type": "code",
   "execution_count": 35,
   "id": "funky-valuable",
   "metadata": {},
   "outputs": [
    {
     "data": {
      "text/plain": [
       "position_measures pynwb.base.ProcessingModule at 0x140416986573600\n",
       "Fields:\n",
       "  data_interfaces: {\n",
       "    linear_position <class 'pynwb.base.TimeSeries'>,\n",
       "    speed <class 'pynwb.base.TimeSeries'>\n",
       "  }\n",
       "  description: Derived measures related to position data."
      ]
     },
     "execution_count": 35,
     "metadata": {},
     "output_type": "execute_result"
    }
   ],
   "source": [
    "# Add derived spatial measures to NWB file as ProcessingModule\n",
    "position_things = ProcessingModule(name='position_measures',\n",
    "                                   description='Derived measures related to position data.',\n",
    "                                   data_interfaces=[speed])\n",
    "nwbfile.add_processing_module(position_things)"
   ]
  },
  {
   "cell_type": "markdown",
   "id": "ceramic-migration",
   "metadata": {},
   "source": [
    "## Spiking Data"
   ]
  },
  {
   "cell_type": "code",
   "execution_count": 36,
   "id": "civil-stuff",
   "metadata": {},
   "outputs": [],
   "source": [
    "# Get a list of the available spike files\n",
    "spike_files = get_files(full_path / 'split_files')"
   ]
  },
  {
   "cell_type": "code",
   "execution_count": 37,
   "id": "pregnant-gibraltar",
   "metadata": {},
   "outputs": [],
   "source": [
    "# Specify additional metadata columns for units\n",
    "nwbfile.add_unit_column('channel', 'The recording channel of this unit.')\n",
    "nwbfile.add_unit_column('location', 'The anatomical location of this unit.')"
   ]
  },
  {
   "cell_type": "code",
   "execution_count": 38,
   "id": "wired-japan",
   "metadata": {},
   "outputs": [],
   "source": [
    "# Add each unit to the NWB file\n",
    "for ind, spike_file in enumerate(spike_files):\n",
    "\n",
    "    # Get channel information from file name\n",
    "    channel = spike_file.split('.')[0].split('_')[-1]\n",
    "    \n",
    "    # Load spike file & get spike data\n",
    "    # NOTE: currently loads HDF5 file - update as needed\n",
    "    with h5py.File(full_path / 'split_files' / spike_file, 'r') as h5file:\n",
    "        spike_data = h5file['spike_data_sorted']\n",
    "    \n",
    "        # Add unit data\n",
    "        nwbfile.add_unit(id=ind,\n",
    "                         electrodes=[0],\n",
    "                         channel=channel,\n",
    "                         waveform_mean=np.mean(spike_data['spikeWaveforms'][:], 0),\n",
    "                         spike_times=spike_data['spikeTimes'][:])"
   ]
  },
  {
   "cell_type": "markdown",
   "id": "suitable-zealand",
   "metadata": {},
   "source": [
    "## Field Data"
   ]
  },
  {
   "cell_type": "code",
   "execution_count": 40,
   "id": "aware-abuse",
   "metadata": {},
   "outputs": [],
   "source": [
    "# Create the electrode table\n",
    "electrode_table_region = nwbfile.create_electrode_table_region([0], 'xx')"
   ]
  },
  {
   "cell_type": "code",
   "execution_count": 41,
   "id": "solar-banks",
   "metadata": {},
   "outputs": [],
   "source": [
    "# Get the list of available LFP files\n",
    "lfp_files = get_files(full_path / 'micro_lfp', select='.p')"
   ]
  },
  {
   "cell_type": "code",
   "execution_count": 42,
   "id": "recorded-shopper",
   "metadata": {},
   "outputs": [],
   "source": [
    "# Add each LFP trace as a new object\n",
    "for ind, lfp_file in enumerate(lfp_files):\n",
    "    with open(full_path / 'micro_lfp' / lfp_file, 'rb') as pfile:\n",
    "        \n",
    "        # Load ephys data\n",
    "        #ephys_data = load(...)\n",
    "        \n",
    "        # Create & add electrical series to store LFP data\n",
    "        ephys_ts = ElectricalSeries('field_data_' + str(ind),\n",
    "                                    ephys_data,\n",
    "                                    electrode_table_region,\n",
    "                                    starting_time=0.,\n",
    "                                    rate=500.,\n",
    "                                    resolution=np.inf,\n",
    "                                    comments=\"...\",\n",
    "                                    description=\"LFP time series.\")\n",
    "        nwbfile.add_acquisition(ephys_ts)"
   ]
  },
  {
   "cell_type": "markdown",
   "id": "secondary-special",
   "metadata": {},
   "source": [
    "### Save out local data file"
   ]
  },
  {
   "cell_type": "code",
   "execution_count": 44,
   "id": "wanted-horizontal",
   "metadata": {},
   "outputs": [],
   "source": [
    "# Save out an example NWB file\n",
    "with NWBHDF5IO('nwb_local_data.nwb', 'w') as io:\n",
    "    io.write(nwbfile)"
   ]
  }
 ],
 "metadata": {
  "kernelspec": {
   "display_name": "Python 3",
   "language": "python",
   "name": "python3"
  },
  "language_info": {
   "codemirror_mode": {
    "name": "ipython",
    "version": 3
   },
   "file_extension": ".py",
   "mimetype": "text/x-python",
   "name": "python",
   "nbconvert_exporter": "python",
   "pygments_lexer": "ipython3",
   "version": "3.8.8"
  }
 },
 "nbformat": 4,
 "nbformat_minor": 5
}
