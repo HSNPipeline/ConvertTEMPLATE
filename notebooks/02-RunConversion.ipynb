{
 "cells": [
  {
   "cell_type": "markdown",
   "id": "southeast-transformation",
   "metadata": {},
   "source": [
    "# Convert T3 Data\n",
    "\n",
    "This notebook can be used to run T3 data processing & conversion."
   ]
  },
  {
   "cell_type": "code",
   "execution_count": null,
   "id": "dirty-brief",
   "metadata": {},
   "outputs": [],
   "source": [
    "# Import local code module\n",
    "import sys\n",
    "sys.path.append('..')\n",
    "from conv.utils import clean_strings, get_event_time\n",
    "from conv.io import get_files, make_file_list"
   ]
  },
  {
   "cell_type": "code",
   "execution_count": null,
   "id": "difficult-rhythm",
   "metadata": {},
   "outputs": [],
   "source": [
    "# Import script functions to run locally\n",
    "import sys\n",
    "sys.path.append('../scripts')\n",
    "from prepare_data import prepare_data\n",
    "from convert_data import convert_data\n",
    "from settings import SUBJ, SETTINGS, PATHS, DATA_PATH"
   ]
  },
  {
   "cell_type": "markdown",
   "id": "colonial-union",
   "metadata": {},
   "source": [
    "## Settings\n",
    "\n",
    "Settings for processing a subject are organized and collected into dictionaries. \n",
    "\n",
    "These dictionaries can be loaded and updated, to set how to proceed with processing a subject. "
   ]
  },
  {
   "cell_type": "code",
   "execution_count": null,
   "id": "aboriginal-think",
   "metadata": {},
   "outputs": [],
   "source": [
    "# Check paths\n",
    "PATHS"
   ]
  },
  {
   "cell_type": "code",
   "execution_count": null,
   "id": "reasonable-julian",
   "metadata": {},
   "outputs": [],
   "source": [
    "# Check current subject information\n",
    "SUBJ"
   ]
  },
  {
   "cell_type": "code",
   "execution_count": null,
   "id": "modular-spelling",
   "metadata": {},
   "outputs": [],
   "source": [
    "# Check default settings\n",
    "SETTINGS"
   ]
  },
  {
   "cell_type": "code",
   "execution_count": null,
   "id": "directed-oklahoma",
   "metadata": {},
   "outputs": [],
   "source": [
    "# Create a custom subject definition\n",
    "CUSTOM_SUBJ = SUBJ.copy()\n",
    "CUSTOM_SUBJ['ID'] = 'custom'"
   ]
  },
  {
   "cell_type": "code",
   "execution_count": null,
   "id": "neutral-pepper",
   "metadata": {},
   "outputs": [],
   "source": [
    "# Create custom settings definition\n",
    "CUSTOM_SETTINGS = SETTINGS.copy()\n",
    "CUSTOM_SETTINGS['PARSE_LOG'] = False"
   ]
  },
  {
   "cell_type": "markdown",
   "id": "better-activation",
   "metadata": {},
   "source": [
    "## Check Files\n",
    "\n",
    "Check data files."
   ]
  },
  {
   "cell_type": "code",
   "execution_count": null,
   "id": "minus-benefit",
   "metadata": {},
   "outputs": [],
   "source": [
    "# Check list of available subjects\n",
    "subj_files = get_files(DATA_PATH, ignore='NWB')"
   ]
  },
  {
   "cell_type": "code",
   "execution_count": null,
   "id": "joint-investor",
   "metadata": {},
   "outputs": [],
   "source": [
    "# Collect the list of data files and NWB files\n",
    "sessions = {}\n",
    "for subj in subj_files:\n",
    "    sessions[subj] = get_files(DATA_PATH / subj, select='session')"
   ]
  },
  {
   "cell_type": "code",
   "execution_count": null,
   "id": "resident-uganda",
   "metadata": {},
   "outputs": [],
   "source": [
    "# Get list of converted files\n",
    "converted = get_files(DATA_PATH / 'NWB')"
   ]
  },
  {
   "cell_type": "code",
   "execution_count": null,
   "id": "surgical-dairy",
   "metadata": {},
   "outputs": [],
   "source": [
    "# Check the list of available subject & sessions\n",
    "print('Available subjects & sessions:')\n",
    "for cur_subj, cur_sessions in sessions.items():\n",
    "    print('\\t', cur_subj, '\\t', ','.join(cur_sessions))"
   ]
  },
  {
   "cell_type": "code",
   "execution_count": null,
   "id": "persistent-plain",
   "metadata": {},
   "outputs": [],
   "source": [
    "# Check the list of converted NWB files\n",
    "print('Converted NWB files:')\n",
    "for file in converted:\n",
    "    print('\\t {}'.format(file))"
   ]
  },
  {
   "cell_type": "code",
   "execution_count": null,
   "id": "unusual-termination",
   "metadata": {},
   "outputs": [],
   "source": [
    "# Check the list of uncoverted files\n",
    "not_converted = [file for file in make_file_list(sessions) if file + '.nwb' not in converted]"
   ]
  },
  {
   "cell_type": "code",
   "execution_count": null,
   "id": "choice-criticism",
   "metadata": {},
   "outputs": [],
   "source": [
    "# Print out the list of not-converted files\n",
    "print('Not yet converted sessions:')\n",
    "for file in not_converted:\n",
    "    print('\\t', file)"
   ]
  },
  {
   "cell_type": "markdown",
   "id": "nutritional-necessity",
   "metadata": {},
   "source": [
    "## Run Converstion\n",
    "\n",
    "The conversion runs in a two step process:\n",
    "- `prepare_data` runs the data preparation, such as parsing the logfile and preparing metadata\n",
    "- `convert_data` uses all the prepared files to convert the full dataset to an NWB file\n",
    "\n",
    "Note that there will typically be some manual intervention required between the two steps. \n",
    "\n",
    "In particular, subject and session specific metadata "
   ]
  },
  {
   "cell_type": "code",
   "execution_count": null,
   "id": "intense-there",
   "metadata": {},
   "outputs": [],
   "source": [
    "# Prepare subject specific information\n",
    "prepare_data(SUBJ=CUSTOM_SUBJ, SETTINGS=CUSTOM_SETTINGS)"
   ]
  },
  {
   "cell_type": "markdown",
   "id": "continued-smile",
   "metadata": {},
   "source": [
    "By default, the subject-specific metadata file will now be ready in the `subject` folder. \n",
    "\n",
    "Any manual updates that need to be made can be done by updating the metadata file before running the next step. "
   ]
  },
  {
   "cell_type": "code",
   "execution_count": null,
   "id": "endangered-repository",
   "metadata": {},
   "outputs": [],
   "source": [
    "# Convert the data to NWB format\n",
    "convert_data(SUBJ=CUSTOM_SUBJ)"
   ]
  },
  {
   "cell_type": "markdown",
   "id": "adult-volleyball",
   "metadata": {},
   "source": [
    "After running the above function, the data should now be organized into a NWB file. \n",
    "\n",
    "This file will be saved out to the setting in the `PATHS` object. "
   ]
  }
 ],
 "metadata": {
  "kernelspec": {
   "display_name": "Python 3",
   "language": "python",
   "name": "python3"
  },
  "language_info": {
   "codemirror_mode": {
    "name": "ipython",
    "version": 3
   },
   "file_extension": ".py",
   "mimetype": "text/x-python",
   "name": "python",
   "nbconvert_exporter": "python",
   "pygments_lexer": "ipython3",
   "version": "3.8.8"
  }
 },
 "nbformat": 4,
 "nbformat_minor": 5
}
